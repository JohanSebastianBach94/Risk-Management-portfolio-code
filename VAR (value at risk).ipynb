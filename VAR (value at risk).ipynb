{
 "cells": [
  {
   "cell_type": "code",
   "execution_count": 18,
   "id": "4b150233-6286-4d3f-a8b5-56c5eff6c3bb",
   "metadata": {
    "execution": {
     "iopub.execute_input": "2024-11-29T08:51:14.056678Z",
     "iopub.status.busy": "2024-11-29T08:51:14.056158Z",
     "iopub.status.idle": "2024-11-29T08:51:14.059875Z",
     "shell.execute_reply": "2024-11-29T08:51:14.059186Z",
     "shell.execute_reply.started": "2024-11-29T08:51:14.056661Z"
    }
   },
   "outputs": [],
   "source": [
    "from numpy import average, linspace, sqrt\n",
    "from scipy.stats import norm as normal, t\n",
    "from seaborn import lineplot\n",
    "from scipy.special import erfinv"
   ]
  },
  {
   "cell_type": "code",
   "execution_count": 19,
   "id": "1a029e1a-5c3d-4033-8ada-2fb113cf27aa",
   "metadata": {
    "execution": {
     "iopub.execute_input": "2024-11-29T08:51:14.291592Z",
     "iopub.status.busy": "2024-11-29T08:51:14.291128Z",
     "iopub.status.idle": "2024-11-29T08:51:14.294330Z",
     "shell.execute_reply": "2024-11-29T08:51:14.293879Z",
     "shell.execute_reply.started": "2024-11-29T08:51:14.291577Z"
    }
   },
   "outputs": [],
   "source": [
    "#################### inputs ####################\n",
    "mu = 1  # location \n",
    "sigma2 = 0.3  # dispersione\n",
    "nu = 4  # gradi di libertà\n",
    "################################################### "
   ]
  },
  {
   "cell_type": "code",
   "execution_count": 20,
   "id": "1da97bea-5589-4c64-b8bf-b7ed8af745bd",
   "metadata": {
    "execution": {
     "iopub.execute_input": "2024-11-29T08:51:14.481087Z",
     "iopub.status.busy": "2024-11-29T08:51:14.480674Z",
     "iopub.status.idle": "2024-11-29T08:51:14.486749Z",
     "shell.execute_reply": "2024-11-29T08:51:14.485975Z",
     "shell.execute_reply.started": "2024-11-29T08:51:14.481068Z"
    }
   },
   "outputs": [
    {
     "name": "stdout",
     "output_type": "stream",
     "text": [
      "q_y = 0.51\n"
     ]
    }
   ],
   "source": [
    "#################### Gaussiana ####################\n",
    "\n",
    "# media\n",
    "e_y = normal.stats(mu,sigma2,'m')\n",
    "# varianza\n",
    "v_y = normal.stats(mu,sigma2,'v')\n",
    "# simmetira\n",
    "sk_y = normal.stats(mu,sigma2,'s')\n",
    "               \n",
    "########## input ##########\n",
    "alpha = 0.05  # threshold\n",
    "###############################################\n",
    "\n",
    "q_y = e_y + sqrt(v_y)*sqrt(2)*erfinv(2*alpha - 1)  # VaR\n",
    "q_y_cornishfisher = e_y + sqrt(v_y)*normal.ppf(alpha)  # Cornish-Fisher VaR\n",
    "print('q_y_cornishfisher =', q_y_cornishfisher.round(2))\n",
    "print('q_y =', q_y.round(2))"
   ]
  },
  {
   "cell_type": "code",
   "execution_count": 22,
   "id": "26cece47-b062-4ec4-9c91-6e5be481cabc",
   "metadata": {
    "execution": {
     "iopub.execute_input": "2024-11-29T08:51:15.660742Z",
     "iopub.status.busy": "2024-11-29T08:51:15.660511Z",
     "iopub.status.idle": "2024-11-29T08:51:15.669148Z",
     "shell.execute_reply": "2024-11-29T08:51:15.668669Z",
     "shell.execute_reply.started": "2024-11-29T08:51:15.660727Z"
    }
   },
   "outputs": [
    {
     "name": "stdout",
     "output_type": "stream",
     "text": [
      "e_y = 1.0\n",
      "v_y = 0.18\n",
      "sk_y = 0.0\n",
      "q_cf = 1.15\n"
     ]
    }
   ],
   "source": [
    "#################### t-student ####################\n",
    "\n",
    "# media\n",
    "e_y = t.stats(nu,mu,sigma2,'m')\n",
    "# varianza\n",
    "v_y = t.stats(nu,mu,sigma2,'v')\n",
    "# simmetira\n",
    "sk_y = t.stats(nu,mu,sigma2,'s')\n",
    "\n",
    "########## statistiche ##########\n",
    "print('e_y =', e_y)\n",
    "print('v_y =', v_y)\n",
    "print('sk_y =', sk_y)\n",
    "############# inputs ##############\n",
    "conf_lev = 0.95  # livelllo di confidenza \n",
    "alpha = 1 - conf_lev \n",
    "###################################\n",
    "\n",
    "# Cornish-Fisher \n",
    "q_cf =  e_y + sqrt(v_y)*t.ppf(alpha,nu,mu,sigma2) \n",
    "\n",
    "########### result ###########\n",
    "print('q_cf =', q_cf.round(2))"
   ]
  },
  {
   "cell_type": "code",
   "execution_count": 23,
   "id": "c1ca7fce-148d-47de-b15c-1c1a65879964",
   "metadata": {
    "execution": {
     "iopub.execute_input": "2024-11-29T08:51:16.325297Z",
     "iopub.status.busy": "2024-11-29T08:51:16.324926Z",
     "iopub.status.idle": "2024-11-29T08:51:16.598708Z",
     "shell.execute_reply": "2024-11-29T08:51:16.597851Z",
     "shell.execute_reply.started": "2024-11-29T08:51:16.325280Z"
    }
   },
   "outputs": [
    {
     "data": {
      "image/png": "[encoded data removed]",
      "text/plain": [
       "<Figure size 640x480 with 1 Axes>"
      ]
     },
     "metadata": {},
     "output_type": "display_data"
    }
   ],
   "source": [
    "################# input #################\n",
    "nu_max = 100  # massimo gradi di libertà \n",
    "#########################################\n",
    "\n",
    "# gradi di libertà\n",
    "nu_grid = range(4,nu_max)\n",
    "\n",
    "# Cornish-Fisher con gradi di libertà incrementali\n",
    "q_y_alpha_cf = [] \n",
    "for i in range(4,nu_max):\n",
    "    cf = e_y + sqrt(v_y)*t.ppf(alpha,i,mu,sigma2)\n",
    "    q_y_alpha_cf.append(cf)\n",
    "\n",
    "lineplot(x=nu_grid, y=q_y_alpha_cf, label='Cornish-Fisher');"
   ]
  },
  {
   "cell_type": "code",
   "execution_count": null,
   "id": "4f17a307-56c7-46aa-8259-e2a4e9280cbf",
   "metadata": {},
   "outputs": [],
   "source": []
  }
 ],
 "metadata": {
  "kernelspec": {
   "display_name": "Python 3 (ipykernel)",
   "language": "python",
   "name": "python3"
  },
  "language_info": {
   "codemirror_mode": {
    "name": "ipython",
    "version": 3
   },
   "file_extension": ".py",
   "mimetype": "text/x-python",
   "name": "python",
   "nbconvert_exporter": "python",
   "pygments_lexer": "ipython3",
   "version": "3.11.6"
  }
 },
 "nbformat": 4,
 "nbformat_minor": 5
}
