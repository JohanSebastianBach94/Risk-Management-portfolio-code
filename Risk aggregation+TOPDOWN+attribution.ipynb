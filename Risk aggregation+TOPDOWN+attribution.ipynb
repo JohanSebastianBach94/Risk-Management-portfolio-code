{
 "cells": [
  {
   "cell_type": "code",
   "execution_count": 2,
   "id": "beccfe47-3650-4c86-88f0-98fa03c22ef5",
   "metadata": {
    "execution": {
     "iopub.execute_input": "2025-01-21T11:26:44.915756Z",
     "iopub.status.busy": "2025-01-21T11:26:44.915287Z",
     "iopub.status.idle": "2025-01-21T11:26:44.919326Z",
     "shell.execute_reply": "2025-01-21T11:26:44.918584Z",
     "shell.execute_reply.started": "2025-01-21T11:26:44.915735Z"
    }
   },
   "outputs": [],
   "source": [
    "from numpy import array, append, average, cov, newaxis, round, r_\n",
    "from numpy.linalg import inv\n",
    "from pandas import DataFrame, Series"
   ]
  },
  {
   "cell_type": "code",
   "execution_count": 3,
   "id": "121782cd-174d-4d5c-ae34-48c7b4775358",
   "metadata": {
    "execution": {
     "iopub.execute_input": "2025-01-21T11:26:45.664615Z",
     "iopub.status.busy": "2025-01-21T11:26:45.664207Z",
     "iopub.status.idle": "2025-01-21T11:26:45.680440Z",
     "shell.execute_reply": "2025-01-21T11:26:45.679632Z",
     "shell.execute_reply.started": "2025-01-21T11:26:45.664592Z"
    }
   },
   "outputs": [
    {
     "name": "stdout",
     "output_type": "stream",
     "text": [
      "r \n",
      " [[-0.0269 -0.0119  0.0156  0.0194]\n",
      " [ 0.0032 -0.0343 -0.0011  0.0192]]\n",
      "w \n",
      " [[0.46]\n",
      " [0.54]]\n",
      "r_w = [[-0.0106 -0.0241  0.0066  0.0193]]\n",
      "p = [[0.3 0.1 0.4 0.2]]\n",
      "w_b \n",
      " [[0.22]\n",
      " [0.78]]\n",
      "r_b = [[-0.0034 -0.0294  0.0026  0.0192]]\n",
      "r_ex_w = [[-0.0071  0.0053  0.004   0.0001]]\n",
      "p = [[0.3 0.1 0.4 0.2]]\n"
     ]
    }
   ],
   "source": [
    "# AGGREGATION#\n",
    "############### inputs (you can change them) ###############\n",
    "h = array([[2000000, 800000]]).T  # holdings\n",
    "v_h = 70000000  # budget \n",
    "pi = array([[-0.43, -0.19, 0.25, 0.31], \n",
    "            [0.15, -1.63, -0.05, 0.91]])  # joint scenarios\n",
    "p = array([[0.3, 0.1, 0.4, 0.2]])  # probabilities\n",
    "v = array([[16., 47.5]]).T\n",
    "############################################################\n",
    "\n",
    "r = pi/v  # instrument return scenarios\n",
    "print('r \\n', r.round(4))\n",
    "\n",
    "w = h*v/v_h  # weights\n",
    "print('w \\n', w.round(2))\n",
    "\n",
    "r_w = w.T@r  # portfolio return scenarios\n",
    "print('r_w =', r_w.round(4))\n",
    "print('p =', p)\n",
    "\n",
    "############# inputs (you can change them) ##############\n",
    "h_b = array([[1000000, 1200000]]).T  # benchmark holdings\n",
    "v_b = 73000000  # benchmark budget\n",
    "#########################################################\n",
    "\n",
    "w_b = h_b*v/v_b  # benchmark weights\n",
    "print('w_b \\n', w_b.round(2))\n",
    "\n",
    "r_b = w_b.T@r  # benchmark return scenarios\n",
    "print('r_b =', r_b.round(4))\n",
    "\n",
    "r_ex_w = r_w - r_b  # excess return\n",
    "print('r_ex_w =', r_ex_w.round(4))\n",
    "print('p =', p)\n",
    "\n",
    "output = DataFrame({'j_bar': Series(p.shape[1]), 'n_bar': Series(pi.shape[0]), 'r_excess': Series(r_ex_w.flatten()), \n",
    "                    'r_w': Series(r_w.flatten()), 'pi': Series(pi.reshape(-1)), 'p': Series(p.flatten()), 'r': Series(r.flatten()), \n",
    "                    'r_b': Series(r_b.flatten()), 'h': Series(h.flatten()), 'h_b': Series(h_b.flatten()), 'v_h': Series(v_h),\n",
    "                    'v_b': Series(v_b), 'w': Series(w.flatten()), 'w_b': Series(w_b.flatten())})\n",
    "output.to_csv('~/Databases/temporary-databases/db_aggregation_scenario_numerical.csv')\n"
   ]
  },
  {
   "cell_type": "code",
   "execution_count": 4,
   "id": "8128041e-2e11-478e-b594-52088b78b303",
   "metadata": {
    "execution": {
     "iopub.execute_input": "2025-01-21T11:26:48.137085Z",
     "iopub.status.busy": "2025-01-21T11:26:48.136730Z",
     "iopub.status.idle": "2025-01-21T11:26:48.149429Z",
     "shell.execute_reply": "2025-01-21T11:26:48.149034Z",
     "shell.execute_reply.started": "2025-01-21T11:26:48.137069Z"
    }
   },
   "outputs": [
    {
     "name": "stdout",
     "output_type": "stream",
     "text": [
      "cv_rh_z \n",
      " [[1.8e-04 1.3e-04 8.0e-05]\n",
      " [1.3e-04 1.6e-04 2.0e-05]\n",
      " [8.0e-05 2.0e-05 2.0e-04]]\n",
      "beta = [0.75 0.33]\n",
      "alpha = -0.0007\n"
     ]
    }
   ],
   "source": [
    "## TOP-DOWN FACTOR ON DEMAND ##\n",
    "################## inputs (you can change them) ##################\n",
    "rh_z = array([[-0.01057143, -0.0041252, -0.01986819],\n",
    "              [-0.02405714, -0.00980853, 0.01450357],\n",
    "              [0.00657143, -0.00406089, 0.01188747],\n",
    "              [0.01925714, 0.02680999, 0.00541017]])  # scenarios\n",
    "p = array([0.3, 0.1, 0.4, 0.2])  # probabilities\n",
    "##################################################################\n",
    "\n",
    "e_rh_z = average(rh_z, weights=p, axis=0)  # joint mean of return and risk factors\n",
    "cv_rh_z = cov(rh_z.T, aweights=p, bias=True)  # joint covariance of return and risk factors\n",
    "print('cv_rh_z \\n', cv_rh_z.round(5))\n",
    "\n",
    "beta = cv_rh_z[0, 1:]@inv(cv_rh_z[1:, 1:])  # top-down exposures\n",
    "print('beta =', beta.round(2))\n",
    "\n",
    "alpha = e_rh_z[0] - beta@e_rh_z[1:]  # shift term\n",
    "print('alpha =', alpha.round(4))\n",
    "\n",
    "out = DataFrame({'p': Series(p),'beta': Series(beta), 'alpha': Series(alpha),\n",
    "                 'rh_z': Series(rh_z.reshape((p.shape[0]*3,)))})\n",
    "out.to_csv('~/Databases/temporary-databases/db_attr_factors.csv', index=None)"
   ]
  },
  {
   "cell_type": "code",
   "execution_count": 7,
   "id": "a6581249-6a96-43a1-9758-19f47868444d",
   "metadata": {
    "execution": {
     "iopub.execute_input": "2025-01-21T11:27:29.099524Z",
     "iopub.status.busy": "2025-01-21T11:27:29.098001Z",
     "iopub.status.idle": "2025-01-21T11:27:29.132937Z",
     "shell.execute_reply": "2025-01-21T11:27:29.132102Z",
     "shell.execute_reply.started": "2025-01-21T11:27:29.099498Z"
    }
   },
   "outputs": [
    {
     "ename": "NameError",
     "evalue": "name 'read_csv' is not defined",
     "output_type": "error",
     "traceback": [
      "\u001b[0;31m---------------------------------------------------------------------------\u001b[0m",
      "\u001b[0;31mNameError\u001b[0m                                 Traceback (most recent call last)",
      "Cell \u001b[0;32mIn[7], line 3\u001b[0m\n\u001b[1;32m      1\u001b[0m \u001b[38;5;66;03m##JOINT DISTRIBUTION OF RESIDUAL##\u001b[39;00m\n\u001b[0;32m----> 3\u001b[0m db_attr_factors \u001b[38;5;241m=\u001b[39m \u001b[43mread_csv\u001b[49m(\u001b[38;5;124m'\u001b[39m\u001b[38;5;124m~/Databases/temporary-databases/db_attr_factors.csv\u001b[39m\u001b[38;5;124m'\u001b[39m)\n\u001b[1;32m      4\u001b[0m p \u001b[38;5;241m=\u001b[39m array(db_attr_factors[\u001b[38;5;124m'\u001b[39m\u001b[38;5;124mp\u001b[39m\u001b[38;5;124m'\u001b[39m][:\u001b[38;5;241m4\u001b[39m])  \u001b[38;5;66;03m# probabilities\u001b[39;00m\n\u001b[1;32m      5\u001b[0m rh_z \u001b[38;5;241m=\u001b[39m db_attr_factors[\u001b[38;5;124m'\u001b[39m\u001b[38;5;124mrh_z\u001b[39m\u001b[38;5;124m'\u001b[39m]\u001b[38;5;241m.\u001b[39mto_numpy()\u001b[38;5;241m.\u001b[39mreshape((\u001b[38;5;241m-\u001b[39m\u001b[38;5;241m1\u001b[39m, \u001b[38;5;241m3\u001b[39m))  \u001b[38;5;66;03m# scenarios\u001b[39;00m\n",
      "\u001b[0;31mNameError\u001b[0m: name 'read_csv' is not defined"
     ]
    }
   ],
   "source": [
    "##JOINT DISTRIBUTION OF RESIDUAL##\n",
    "\n",
    "db_attr_factors = read_csv('~/Databases/temporary-databases/db_attr_factors.csv')\n",
    "p = array(db_attr_factors['p'][:4])  # probabilities\n",
    "rh_z = db_attr_factors['rh_z'].to_numpy().reshape((-1, 3))  # scenarios\n",
    "beta = array(db_attr_factors['beta'][:2])  # top-down exposures\n",
    "alpha = db_attr_factors['alpha'][0]  # shift term\n",
    "\n",
    "u = rh_z[:, 0] - alpha - beta@rh_z[:, 1:].T  # residual scenarios\n",
    "u_z1_z2 = (r_['-1', u[newaxis, ...].T, rh_z[:, 1:3]]).T  # joint scenarios of residual and factors\n",
    "print('u_z1_z2 \\n', u_z1_z2.round(4))\n",
    "print('p =', p)\n",
    "\n",
    "beta_0 = 1  # exposure to residual\n",
    "beta_factors_only = append(beta_0, beta)  # updated exposures\n",
    "print('beta_factors_only =', beta_factors_only.round(2))\n",
    "\n",
    "z0 = alpha + u  # scenarios for risk factor Z0\n",
    "z0_z1_z2 = r_[z0.reshape(1, -1), u_z1_z2[1:, :]]  # risk factors with no shift\n",
    "print('z0_z1_z2 \\n', z0_z1_z2.round(4))\n",
    "print('p =', p)\n",
    "\n",
    "out = DataFrame({'k_': Series(2), 'j_': Series(p.shape[0]),'p': Series(p),'beta': Series(beta), 'alpha': Series(alpha),\n",
    "                 'rh_z': Series(rh_z.reshape((p.shape[0]*3,))), 'uz': Series(u_z1_z2.reshape((p.shape[0]*3,)))})\n",
    "out.to_csv('~/Databases/temporary-databases/db_attribution_scen_prob.csv', index=None)"
   ]
  },
  {
   "cell_type": "code",
   "execution_count": 6,
   "id": "5337451a-2f7d-49cd-bd79-5bdda8110cf2",
   "metadata": {
    "execution": {
     "iopub.execute_input": "2025-01-21T11:26:52.115694Z",
     "iopub.status.busy": "2025-01-21T11:26:52.115135Z",
     "iopub.status.idle": "2025-01-21T11:26:52.149429Z",
     "shell.execute_reply": "2025-01-21T11:26:52.148544Z",
     "shell.execute_reply.started": "2025-01-21T11:26:52.115671Z"
    }
   },
   "outputs": [
    {
     "ename": "NameError",
     "evalue": "name 'read_csv' is not defined",
     "output_type": "error",
     "traceback": [
      "\u001b[0;31m---------------------------------------------------------------------------\u001b[0m",
      "\u001b[0;31mNameError\u001b[0m                                 Traceback (most recent call last)",
      "Cell \u001b[0;32mIn[6], line 3\u001b[0m\n\u001b[1;32m      1\u001b[0m \u001b[38;5;66;03m##  RISK ATTRIBUTION ##\u001b[39;00m\n\u001b[0;32m----> 3\u001b[0m db_attribution_scen_prob \u001b[38;5;241m=\u001b[39m \u001b[43mread_csv\u001b[49m(\u001b[38;5;124m'\u001b[39m\u001b[38;5;124m~/Databases/temporary-databases/db_attribution_scen_prob.csv\u001b[39m\u001b[38;5;124m'\u001b[39m)\n\u001b[1;32m      4\u001b[0m j_bar \u001b[38;5;241m=\u001b[39m \u001b[38;5;28mint\u001b[39m(db_attribution_scen_prob[\u001b[38;5;124m'\u001b[39m\u001b[38;5;124mj_\u001b[39m\u001b[38;5;124m'\u001b[39m]\u001b[38;5;241m.\u001b[39miloc[\u001b[38;5;241m0\u001b[39m])  \u001b[38;5;66;03m# number of Monte Carlo simulations\u001b[39;00m\n\u001b[1;32m      5\u001b[0m k_bar \u001b[38;5;241m=\u001b[39m \u001b[38;5;28mint\u001b[39m(db_attribution_scen_prob[\u001b[38;5;124m'\u001b[39m\u001b[38;5;124mk_\u001b[39m\u001b[38;5;124m'\u001b[39m]\u001b[38;5;241m.\u001b[39miloc[\u001b[38;5;241m0\u001b[39m])  \u001b[38;5;66;03m# number of stocks\u001b[39;00m\n",
      "\u001b[0;31mNameError\u001b[0m: name 'read_csv' is not defined"
     ]
    }
   ],
   "source": [
    "##  RISK ATTRIBUTION ##\n",
    "\n",
    "db_attribution_scen_prob = read_csv('~/Databases/temporary-databases/db_attribution_scen_prob.csv')\n",
    "j_bar = int(db_attribution_scen_prob['j_'].iloc[0])  # number of Monte Carlo simulations\n",
    "k_bar = int(db_attribution_scen_prob['k_'].iloc[0])  # number of stocks\n",
    "p = array(db_attribution_scen_prob['p'].iloc[:j_bar])  # probabilities\n",
    "alpha = array(db_attribution_scen_prob['alpha'].iloc[0])  # shift term\n",
    "beta = array(db_attribution_scen_prob['beta'].iloc[:j_bar-2]).reshape(k_bar, 1)  # top-down exposures\n",
    "# scenario realizations of ex-ante performance and factors\n",
    "rz = array(db_attribution_scen_prob['rh_z'].iloc[:j_bar*(k_bar + 1)]).reshape((j_bar, k_bar + 1))\n",
    "# scenario realizations of residual and factors\n",
    "uz = array(db_attribution_scen_prob['uz'].iloc[:j_bar*(k_bar + 1)]).reshape((k_bar + 1), j_bar).T\n",
    "\n",
    "beta_0 = 1  # exposure to residual\n",
    "beta = append(beta_0, beta)  # updated exposures\n",
    "u = uz[:, 0]  # residual scenarios\n",
    "z_0 = alpha + u  # factor scenarios\n",
    "z = r_['-1', z_0.reshape(j_bar, 1), uz[:, 1:]]  # updated risk factor scenarios\n",
    "\n",
    "sigma2_z = ((z - p@z).T*p)@(z - p@z)  # covariance of factors\n",
    "\n",
    "r = rz[:, 0]  # return scenarios\n",
    "var_r = ((r - p@r).T*p)@(r - p@r)  # variance of portfolio return\n",
    "sd_r = sqrt(var_r)  # standard deviation of portfolio return\n",
    "\n",
    "satis_r = -sd_r  # satisfaction is negative standard deviation\n",
    "\n",
    "sd_bz = -abs(beta)*sqrt(diag(sigma2_z)).T  # non-normalized \"first in\" contributions\n",
    "print('sd_bz =', sd_bz.round(4))\n",
    "\n",
    "gamma_isol = satis_r/sum(sd_bz)  # normalization constant\n",
    "print('gamma_isol =', gamma_isol.round(2))\n",
    "\n",
    "sd_isol = gamma_isol*sd_bz  # \"first in\" proportional contributions\n",
    "print('sd_isol =', sd_isol.round(4))\n",
    "\n",
    "# non-normalized \"last in\" contributions\n",
    "satis_diff = satis_r + sqrt(satis_r**2 + (beta*beta)*diag(sigma2_z).T - 2*beta*(beta@sigma2_z))\n",
    "print('satis_diff =', satis_diff.round(4))\n",
    "\n",
    "gamma_last = satis_r/sum(satis_diff)  # normalization constant\n",
    "print('gamma_last =', gamma_last.round(2))\n",
    "\n",
    "sd_last = gamma_last*satis_diff  # \"last in\" proportional contributions\n",
    "print('sd_last =', sd_last.round(4))"
   ]
  },
  {
   "cell_type": "code",
   "execution_count": null,
   "id": "cf502ab5-975b-4d86-8b96-c97fe9a71965",
   "metadata": {},
   "outputs": [],
   "source": []
  }
 ],
 "metadata": {
  "kernelspec": {
   "display_name": "Python 3 (ipykernel)",
   "language": "python",
   "name": "python3"
  },
  "language_info": {
   "codemirror_mode": {
    "name": "ipython",
    "version": 3
   },
   "file_extension": ".py",
   "mimetype": "text/x-python",
   "name": "python",
   "nbconvert_exporter": "python",
   "pygments_lexer": "ipython3",
   "version": "3.11.6"
  }
 },
 "nbformat": 4,
 "nbformat_minor": 5
}
